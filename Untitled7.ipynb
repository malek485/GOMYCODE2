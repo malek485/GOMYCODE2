{
 "cells": [
  {
   "cell_type": "code",
   "execution_count": 1,
   "id": "36ac0c52",
   "metadata": {},
   "outputs": [],
   "source": [
    "import numpy as np"
   ]
  },
  {
   "cell_type": "code",
   "execution_count": 2,
   "id": "3288737a",
   "metadata": {},
   "outputs": [
    {
     "name": "stdout",
     "output_type": "stream",
     "text": [
      "[[1, 2, 3], [4, 5, 6]]\n"
     ]
    }
   ],
   "source": [
    "#Q1\n",
    "array1=np.array([[1,2,3],[4,5,6]])\n",
    "print(array1.tolist())"
   ]
  },
  {
   "cell_type": "code",
   "execution_count": 3,
   "id": "ca0a32ac",
   "metadata": {},
   "outputs": [
    {
     "name": "stdout",
     "output_type": "stream",
     "text": [
      "[[0 1 2]\n",
      " [3 4 5]\n",
      " [6 7 8]]\n",
      "the sum of the diagonal elements is: 12\n"
     ]
    }
   ],
   "source": [
    "#Q2\n",
    "A = np.arange(9)\n",
    "Z=A.reshape(3,3)\n",
    "print(Z)\n",
    "result =  np.trace(Z)\n",
    "print(\"the sum of the diagonal elements is:\",result)"
   ]
  },
  {
   "cell_type": "code",
   "execution_count": 4,
   "id": "90d3353c",
   "metadata": {},
   "outputs": [
    {
     "name": "stdout",
     "output_type": "stream",
     "text": [
      "Values bigger than 20 = [30 40]\n"
     ]
    }
   ],
   "source": [
    "#Q3\n",
    "x = np.array([[0, 10, 20], [20, 30, 40]])\n",
    "print(\"Values bigger than 20 =\", x[x>20])"
   ]
  },
  {
   "cell_type": "code",
   "execution_count": 5,
   "id": "d196dbf0",
   "metadata": {},
   "outputs": [
    {
     "name": "stdout",
     "output_type": "stream",
     "text": [
      "[10 10 10]\n"
     ]
    }
   ],
   "source": [
    "#Q4\n",
    "a=np.array([5,2,7])\n",
    "b=np.array([5,8,3])\n",
    "c=a+b\n",
    "print(c)"
   ]
  },
  {
   "cell_type": "code",
   "execution_count": 6,
   "id": "a91dea8e",
   "metadata": {},
   "outputs": [
    {
     "name": "stdout",
     "output_type": "stream",
     "text": [
      "10.0\n",
      "[0. 0. 0.]\n"
     ]
    }
   ],
   "source": [
    "#Q5\n",
    "x=np.array([10,10,10])\n",
    "y=x.mean()\n",
    "print(y)\n",
    "c=x-y\n",
    "print(c)"
   ]
  },
  {
   "cell_type": "code",
   "execution_count": null,
   "id": "7f5df1d9",
   "metadata": {},
   "outputs": [],
   "source": []
  }
 ],
 "metadata": {
  "kernelspec": {
   "display_name": "Python 3",
   "language": "python",
   "name": "python3"
  },
  "language_info": {
   "codemirror_mode": {
    "name": "ipython",
    "version": 3
   },
   "file_extension": ".py",
   "mimetype": "text/x-python",
   "name": "python",
   "nbconvert_exporter": "python",
   "pygments_lexer": "ipython3",
   "version": "3.8.8"
  }
 },
 "nbformat": 4,
 "nbformat_minor": 5
}
