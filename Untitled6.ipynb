{
 "cells": [
  {
   "cell_type": "code",
   "execution_count": 25,
   "id": "aa896177",
   "metadata": {},
   "outputs": [
    {
     "name": "stdout",
     "output_type": "stream",
     "text": [
      "x=1 y=2 z=3\n"
     ]
    }
   ],
   "source": [
    "class Point_3D :\n",
    "    \n",
    "    def __init__(self,x,y,z):\n",
    "        self.x=x\n",
    "        self.y=y\n",
    "        self.z=z\n",
    "        \n",
    "    def test (self):\n",
    "        return \"x={} y={} z={}\".format(self.x,self.y,self.z)\n",
    "    \n",
    "my_point = Point_3D(1,2,3)\n",
    "\n",
    "print(my_point.test()) \n",
    "  "
   ]
  },
  {
   "cell_type": "code",
   "execution_count": 31,
   "id": "c829da5e",
   "metadata": {},
   "outputs": [
    {
     "name": "stdout",
     "output_type": "stream",
     "text": [
      "54 30\n"
     ]
    }
   ],
   "source": [
    "class  Rectangle :\n",
    "    def __init__(self,l,Lar):\n",
    "        self.longueur=l\n",
    "        self.largeur=Lar\n",
    "    def air (self):\n",
    "        e=self.longueur*self.largeur        \n",
    "        return e\n",
    "    def per(self):\n",
    "        a=2*(self.longueur+self.largeur)\n",
    "        return a\n",
    "    \n",
    "my_rectangle=Rectangle(6,9)\n",
    "print(my_rectangle.air(),my_rectangle.per())"
   ]
  },
  {
   "cell_type": "code",
   "execution_count": 9,
   "id": "3e2a59e9",
   "metadata": {},
   "outputs": [
    {
     "name": "stdout",
     "output_type": "stream",
     "text": [
      "rayon=4\n",
      "xO=4\n",
      "yO=4\n",
      "xA=4\n",
      "yA=4\n",
      "(16, 25.132741228718345) the point is inside the circle\n"
     ]
    }
   ],
   "source": [
    "from math import*\n",
    "class Circle:\n",
    "\n",
    "    def __init__(self,O,r):\n",
    "        self.center = O\n",
    "        self.radius = r\n",
    "\n",
    "    def compute_area(self):\n",
    "        return self.radius**2\n",
    "\n",
    "    def compute_perimeter(self):\n",
    "        return 2*pi*self.radius\n",
    "\n",
    "    def point(self,A):\n",
    "        self.center\n",
    "        OA=sqrt((xA-x)**2+(yA-y)**2)\n",
    "        if OA>self.radius :\n",
    "            return (\"the point is outside the circle\")\n",
    "\n",
    "        elif OA<=self.radius:\n",
    "            return (\"the point is inside the circle\")\n",
    "\n",
    "r=int(input(\"rayon=\"))\n",
    "x=int(input(\"xO=\"))\n",
    "y=int(input(\"yO=\"))\n",
    "O=(x,y)\n",
    "xA=int(input(\"xA=\"))\n",
    "yA=int(input(\"yA=\"))\n",
    "A=(xA,yA)\n",
    "circle = Circle(O,r)\n",
    "\n",
    "area = circle.compute_area()\n",
    "perimeter = circle.compute_perimeter()\n",
    "\n",
    "my_circle=(area,perimeter)\n",
    "\n",
    "print(my_circle,circle.point(A))\n",
    "    "
   ]
  },
  {
   "cell_type": "code",
   "execution_count": 16,
   "id": "f97bec4e",
   "metadata": {},
   "outputs": [
    {
     "name": "stdout",
     "output_type": "stream",
     "text": [
      "entrer votre solde:10\n",
      "combien voulez vous deposer:1000\n",
      "combien voulez vous retirer:2000\n",
      "apres le depot, vous avez: 1010 votre sold est: -990\n"
     ]
    }
   ],
   "source": [
    "\n",
    "class bank:\n",
    "    def __init__(self,t):\n",
    "        self.total=t\n",
    "    def deposit(self,val):\n",
    "        self.total=self.total+val\n",
    "        return self.total\n",
    "    def withdraw(self,val):\n",
    "        self.total=self.total-val\n",
    "        return self.total\n",
    "x=int(input(\"entrer votre solde:\"))\n",
    "a=int(input(\"combien voulez vous deposer:\"))\n",
    "b=int(input(\"combien voulez vous retirer:\"))\n",
    "my_account=bank(x)\n",
    "y=my_account.deposit(a)\n",
    "z=my_account.withdraw(b)\n",
    "\n",
    "print(\"apres le depot, vous avez:\",y,\"votre sold est:\",z)\n"
   ]
  },
  {
   "cell_type": "code",
   "execution_count": null,
   "id": "222854cf",
   "metadata": {},
   "outputs": [],
   "source": []
  },
  {
   "cell_type": "code",
   "execution_count": null,
   "id": "c24d94b1",
   "metadata": {},
   "outputs": [],
   "source": []
  }
 ],
 "metadata": {
  "kernelspec": {
   "display_name": "Python 3",
   "language": "python",
   "name": "python3"
  },
  "language_info": {
   "codemirror_mode": {
    "name": "ipython",
    "version": 3
   },
   "file_extension": ".py",
   "mimetype": "text/x-python",
   "name": "python",
   "nbconvert_exporter": "python",
   "pygments_lexer": "ipython3",
   "version": "3.8.8"
  }
 },
 "nbformat": 4,
 "nbformat_minor": 5
}
