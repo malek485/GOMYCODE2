{
 "cells": [
  {
   "cell_type": "code",
   "execution_count": null,
   "id": "ea808e4e",
   "metadata": {},
   "outputs": [],
   "source": [
    "a=str(input(\"frist name\"))\n",
    "b=str(input(\"last name\"))\n",
    "print(a,b)"
   ]
  },
  {
   "cell_type": "code",
   "execution_count": null,
   "id": "78e3612e",
   "metadata": {},
   "outputs": [],
   "source": [
    "n=int(input())\n",
    "n=n+n*11+n*111\n",
    "print(\"result:\",n)"
   ]
  },
  {
   "cell_type": "code",
   "execution_count": null,
   "id": "51e040b5",
   "metadata": {},
   "outputs": [],
   "source": [
    "x=int(input(\"donner moi un chiffre\"))\n",
    "if x%2==0:\n",
    "  print(\"le nombre est pair\")\n",
    "else:\n",
    "  print(\"le nombre est impair\")"
   ]
  },
  {
   "cell_type": "code",
   "execution_count": null,
   "id": "05f6b4b1",
   "metadata": {},
   "outputs": [],
   "source": [
    "for i in range(2000,3201):\n",
    "    if i%7==0 and i%5!=0:\n",
    "        print(i,end=\",\")"
   ]
  },
  {
   "cell_type": "code",
   "execution_count": null,
   "id": "56cc2850",
   "metadata": {},
   "outputs": [],
   "source": [
    "import math \n",
    "def fact (n):\n",
    "    return(math.factorial(n))\n",
    "num=int (input(\"entre the number:\"))\n",
    "f= fact(num)\n",
    "print(\"factorial of\",num,\"is\",f)\n"
   ]
  },
  {
   "cell_type": "code",
   "execution_count": 5,
   "id": "761d7df8",
   "metadata": {},
   "outputs": [
    {
     "name": "stdout",
     "output_type": "stream",
     "text": [
      "choose a world: hello team\n",
      "hlota\n"
     ]
    }
   ],
   "source": [
    "result=input(\"choose a world: \")\n",
    "def odd_values_string(str):\n",
    "    result= \"\"\n",
    "    for i in range(len(str)):\n",
    "        if i % 2 == 0:\n",
    "            result=result+str[i]\n",
    "    return result \n",
    "print(odd_values_string(result))\n"
   ]
  },
  {
   "cell_type": "code",
   "execution_count": 22,
   "id": "a8c93a17",
   "metadata": {},
   "outputs": [
    {
     "name": "stdout",
     "output_type": "stream",
     "text": [
      "give me the price 550\n",
      "275.0\n"
     ]
    }
   ],
   "source": [
    "price=int(input(\"give me the price \"))\n",
    "if price>=500:\n",
    "    price=price*(1-50/100)\n",
    "elif price in range(200,501):\n",
    "    price=price*(1-30/100)\n",
    "elif price<200:\n",
    "    price=price*(1-10/100)\n",
    "print(price)"
   ]
  },
  {
   "cell_type": "code",
   "execution_count": null,
   "id": "408c0162",
   "metadata": {},
   "outputs": [],
   "source": []
  },
  {
   "cell_type": "code",
   "execution_count": null,
   "id": "5a73df95",
   "metadata": {},
   "outputs": [],
   "source": []
  }
 ],
 "metadata": {
  "kernelspec": {
   "display_name": "Python 3",
   "language": "python",
   "name": "python3"
  },
  "language_info": {
   "codemirror_mode": {
    "name": "ipython",
    "version": 3
   },
   "file_extension": ".py",
   "mimetype": "text/x-python",
   "name": "python",
   "nbconvert_exporter": "python",
   "pygments_lexer": "ipython3",
   "version": "3.8.8"
  }
 },
 "nbformat": 4,
 "nbformat_minor": 5
}
