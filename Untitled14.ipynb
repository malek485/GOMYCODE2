{
 "cells": [
  {
   "cell_type": "code",
   "execution_count": 1,
   "id": "a1ca4985",
   "metadata": {},
   "outputs": [
    {
     "name": "stdout",
     "output_type": "stream",
     "text": [
      "enter the time in seconds:5\n",
      "fire in the hole\n"
     ]
    }
   ],
   "source": [
    "import time\n",
    "def countdown(t):\n",
    "    while t:\n",
    "        mins,secs=divmod(t,60)\n",
    "        timer=\"{:02d}:{:02d}\".format(mins,secs)\n",
    "        print(timer,end=\"\\r\")\n",
    "        time.sleep(1)\n",
    "        t-=1\n",
    "    print(\"fire in the hole\")\n",
    "t=int(input(\"enter the time in seconds:\"))\n",
    "countdown(t)"
   ]
  },
  {
   "cell_type": "code",
   "execution_count": null,
   "id": "1ca4db90",
   "metadata": {},
   "outputs": [],
   "source": []
  }
 ],
 "metadata": {
  "kernelspec": {
   "display_name": "Python 3",
   "language": "python",
   "name": "python3"
  },
  "language_info": {
   "codemirror_mode": {
    "name": "ipython",
    "version": 3
   },
   "file_extension": ".py",
   "mimetype": "text/x-python",
   "name": "python",
   "nbconvert_exporter": "python",
   "pygments_lexer": "ipython3",
   "version": "3.8.8"
  }
 },
 "nbformat": 4,
 "nbformat_minor": 5
}
