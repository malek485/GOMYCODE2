{
 "cells": [
  {
   "cell_type": "code",
   "execution_count": 1,
   "id": "d5585dc5",
   "metadata": {},
   "outputs": [
    {
     "name": "stdout",
     "output_type": "stream",
     "text": [
      "35\n",
      "None\n"
     ]
    }
   ],
   "source": [
    "# Q:1\n",
    "def nummax(a,b,c):\n",
    "    if a>b and b>c:\n",
    "        print (a)\n",
    "    if b>a and b>c:\n",
    "        print (b)\n",
    "    if c>a and c>b:\n",
    "        print (c)\n",
    "x=nummax(20,35,19)       \n",
    "print(x)"
   ]
  },
  {
   "cell_type": "code",
   "execution_count": 3,
   "id": "64757b9b",
   "metadata": {},
   "outputs": [
    {
     "name": "stdout",
     "output_type": "stream",
     "text": [
      "Entrer un nombre40\n",
      "Entrer un nombrre10\n",
      "(50, 30)\n"
     ]
    }
   ],
   "source": [
    "# Q:2\n",
    "   \n",
    "a=int(input(\"Entrer un nombre\"))\n",
    "b=int(input(\"Entrer un nombrre\"))\n",
    "def calc(a,b):\n",
    "    x=(a+b,a-b)\n",
    "    return(x)\n",
    "e=calc(a,b)\n",
    "print(e)"
   ]
  },
  {
   "cell_type": "code",
   "execution_count": 7,
   "id": "ced96e7a",
   "metadata": {},
   "outputs": [
    {
     "name": "stdout",
     "output_type": "stream",
     "text": [
      "put your list here:66\n",
      "the sum of the even numbers: 66\n"
     ]
    },
    {
     "ename": "NameError",
     "evalue": "name 'c' is not defined",
     "output_type": "error",
     "traceback": [
      "\u001b[1;31m---------------------------------------------------------------------------\u001b[0m",
      "\u001b[1;31mNameError\u001b[0m                                 Traceback (most recent call last)",
      "\u001b[1;32m<ipython-input-7-9f74895a6f0b>\u001b[0m in \u001b[0;36m<module>\u001b[1;34m\u001b[0m\n\u001b[0;32m     20\u001b[0m     \u001b[0mlist3\u001b[0m\u001b[1;33m.\u001b[0m\u001b[0mappend\u001b[0m\u001b[1;33m(\u001b[0m\u001b[0mlist1\u001b[0m\u001b[1;33m[\u001b[0m\u001b[0ms\u001b[0m\u001b[1;33m]\u001b[0m\u001b[1;33m)\u001b[0m\u001b[1;33m\u001b[0m\u001b[1;33m\u001b[0m\u001b[0m\n\u001b[0;32m     21\u001b[0m     \u001b[0mc\u001b[0m\u001b[1;33m=\u001b[0m\u001b[0mmul\u001b[0m\u001b[1;33m(\u001b[0m\u001b[0mlist3\u001b[0m\u001b[1;33m)\u001b[0m\u001b[1;33m\u001b[0m\u001b[1;33m\u001b[0m\u001b[0m\n\u001b[1;32m---> 22\u001b[1;33m \u001b[0mprint\u001b[0m\u001b[1;33m(\u001b[0m\u001b[1;34m\"the multiplication of the odd numbers:\"\u001b[0m\u001b[1;33m,\u001b[0m\u001b[0mc\u001b[0m\u001b[1;33m)\u001b[0m\u001b[1;33m\u001b[0m\u001b[1;33m\u001b[0m\u001b[0m\n\u001b[0m",
      "\u001b[1;31mNameError\u001b[0m: name 'c' is not defined"
     ]
    }
   ],
   "source": [
    "# Q:3\n",
    "list1 =list(map(int,input(\"put your list here:\").split(\",\")))\n",
    "def ad(list):\n",
    "    res=0\n",
    "    for i in list:\n",
    "        res+=i\n",
    "    return res\n",
    "def mul(list):\n",
    "    res1=1\n",
    "    for i in list:\n",
    "        res1*=i\n",
    "    return res1\n",
    "list2=[]\n",
    "list3=[]\n",
    "for i in range (0,len(list1),2):\n",
    "    list2.append(list1[i])\n",
    "    x=ad(list2)\n",
    "print(\"the sum of the even numbers:\",x)\n",
    "for s in range(1,len(list1),2):\n",
    "    list3.append(list1[s])\n",
    "    c=mul(list3)\n",
    "print(\"the multiplication of the odd numbers:\",c)"
   ]
  },
  {
   "cell_type": "code",
   "execution_count": null,
   "id": "585f3228",
   "metadata": {},
   "outputs": [],
   "source": [
    "#Q:4\n",
    "items=[n for n in input(\"enter words seperated by - \").split('-')]\n",
    "items.sort()\n",
    "print(\"_\".join(items))\n"
   ]
  },
  {
   "cell_type": "code",
   "execution_count": 20,
   "id": "f09cb501",
   "metadata": {},
   "outputs": [
    {
     "name": "stdout",
     "output_type": "stream",
     "text": [
      "100,150,180\n",
      "[18, 22, 24]\n"
     ]
    }
   ],
   "source": [
    "# Q:(Bonus)\n",
    "import math \n",
    "H = 30\n",
    "C = 50\n",
    "D = input()\n",
    "D = D.split(',')\n",
    "list = []\n",
    "for D in D:\n",
    "    Q= round(math.sqrt(2 * C * int(D) /H ))\n",
    "    list.append(Q)\n",
    "print(list)"
   ]
  },
  {
   "cell_type": "code",
   "execution_count": null,
   "id": "f40bd2f8",
   "metadata": {},
   "outputs": [],
   "source": []
  }
 ],
 "metadata": {
  "kernelspec": {
   "display_name": "Python 3",
   "language": "python",
   "name": "python3"
  },
  "language_info": {
   "codemirror_mode": {
    "name": "ipython",
    "version": 3
   },
   "file_extension": ".py",
   "mimetype": "text/x-python",
   "name": "python",
   "nbconvert_exporter": "python",
   "pygments_lexer": "ipython3",
   "version": "3.8.8"
  }
 },
 "nbformat": 4,
 "nbformat_minor": 5
}
