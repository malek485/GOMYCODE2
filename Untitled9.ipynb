{
 "cells": [
  {
   "cell_type": "code",
   "execution_count": 16,
   "id": "7d0e0bb7",
   "metadata": {},
   "outputs": [
    {
     "data": {
      "text/plain": [
       "['Instagram\\n',\n",
       " 'Facebook\\n',\n",
       " 'youtube\\n',\n",
       " 'Tiktok\\n',\n",
       " 'snapchat\\n',\n",
       " 'Rave\\n',\n",
       " 'Jupyter\\n',\n",
       " 'Google \\n']"
      ]
     },
     "execution_count": 16,
     "metadata": {},
     "output_type": "execute_result"
    }
   ],
   "source": [
    "f = open(\"test.txt\")\n",
    "f.readlines()"
   ]
  },
  {
   "cell_type": "code",
   "execution_count": 15,
   "id": "124eaedc",
   "metadata": {},
   "outputs": [
    {
     "name": "stdout",
     "output_type": "stream",
     "text": [
      "input the first n nulbers you want ti read:5\n",
      "Instagram\n",
      "\n",
      "Facebook\n",
      "\n",
      "youtube\n",
      "\n",
      "Tiktok\n",
      "\n",
      "snapchat\n",
      "\n"
     ]
    }
   ],
   "source": [
    "e=int(input('input the first n nulbers you want ti read:'))\n",
    "a_file = open(\"test.txt\")\n",
    "number_of_lines = e\n",
    "for i in range(number_of_lines):\n",
    "    line = a_file.readline()\n",
    "    print(line)"
   ]
  },
  {
   "cell_type": "code",
   "execution_count": 17,
   "id": "1f6f106b",
   "metadata": {},
   "outputs": [
    {
     "name": "stdout",
     "output_type": "stream",
     "text": [
      "input last n lines you want to read:4\n",
      "snapchat\n",
      "Rave\n",
      "Jupyter\n",
      "Google \n"
     ]
    }
   ],
   "source": [
    "def LastNlines(fname, N):\n",
    "    with open(fname) as file:\n",
    "        for line in (file.readlines() [-N:]):\n",
    "            print(line, end ='')\n",
    "N=int(input('input last n lines you want to read:'))\n",
    "LastNlines('test.txt',N)"
   ]
  },
  {
   "cell_type": "code",
   "execution_count": 25,
   "id": "01def0d2",
   "metadata": {},
   "outputs": [
    {
     "name": "stdout",
     "output_type": "stream",
     "text": [
      "input your text:le malek\n",
      "Number of words in text file : 2\n"
     ]
    }
   ],
   "source": [
    "a=input('input your text:')\n",
    "with open(\"ses.txt\",'w',encoding = 'utf-8') as f:\n",
    "    f.write(a)\n",
    "file = open(\"ses.txt\", \"rt\")\n",
    "data = file.read()\n",
    "words = data.split()\n",
    "print('Number of words in text file :', len(words))"
   ]
  },
  {
   "cell_type": "code",
   "execution_count": 26,
   "id": "ce11a12b",
   "metadata": {},
   "outputs": [
    {
     "name": "stdout",
     "output_type": "stream",
     "text": [
      "input last n lines you want to read:1\n",
      "le malek"
     ]
    }
   ],
   "source": [
    "def LastNlines(fname, N):\n",
    "    with open(fname) as file:\n",
    "        for line in (file.readlines() [-N:]):\n",
    "            print(line, end ='')\n",
    "N=int(input('input last n lines you want to read:'))\n",
    "LastNlines('ses.txt',N)"
   ]
  },
  {
   "cell_type": "code",
   "execution_count": null,
   "id": "db950475",
   "metadata": {},
   "outputs": [],
   "source": []
  }
 ],
 "metadata": {
  "kernelspec": {
   "display_name": "Python 3",
   "language": "python",
   "name": "python3"
  },
  "language_info": {
   "codemirror_mode": {
    "name": "ipython",
    "version": 3
   },
   "file_extension": ".py",
   "mimetype": "text/x-python",
   "name": "python",
   "nbconvert_exporter": "python",
   "pygments_lexer": "ipython3",
   "version": "3.8.8"
  }
 },
 "nbformat": 4,
 "nbformat_minor": 5
}
